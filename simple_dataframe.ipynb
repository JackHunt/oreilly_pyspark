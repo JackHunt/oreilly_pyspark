{
 "cells": [
  {
   "cell_type": "code",
   "execution_count": null,
   "id": "063080ca-d4be-4ba4-b069-84dc1be7fd35",
   "metadata": {},
   "outputs": [],
   "source": [
    "from pathlib import Path\n",
    "\n",
    "from pyspark.sql import SparkSession\n",
    "\n",
    "from lib.configuration import configure_spark_session"
   ]
  },
  {
   "cell_type": "code",
   "execution_count": null,
   "id": "146096ef-bef0-491b-9c1a-3d46b3a58d09",
   "metadata": {},
   "outputs": [],
   "source": [
    "from IPython.core.display import HTML\n",
    "display(HTML(\"<style>pre { white-space: pre !important; }</style>\"))"
   ]
  },
  {
   "cell_type": "code",
   "execution_count": null,
   "id": "80bdb52f-16c6-4c5a-8883-dac21d329cd5",
   "metadata": {},
   "outputs": [],
   "source": [
    "spark = SparkSession.builder \\\n",
    "    .appName(\"Hello Spark!\")\n",
    "\n",
    "spark = configure_spark_session(spark, Path().resolve()) \\\n",
    "    .getOrCreate()"
   ]
  },
  {
   "cell_type": "code",
   "execution_count": null,
   "id": "8dcb4e81-bfd3-44a7-ace6-a46f8c985bb0",
   "metadata": {},
   "outputs": [],
   "source": [
    "df = spark.read \\\n",
    "    .option(\"header\", True) \\\n",
    "    .option(\"inferSchema\", True) \\\n",
    "    .csv(\"data/sample.csv\")"
   ]
  },
  {
   "cell_type": "code",
   "execution_count": null,
   "id": "01541fa4-1d46-46cc-9765-d4cd459e448d",
   "metadata": {},
   "outputs": [],
   "source": [
    "df = df.repartition(2)"
   ]
  },
  {
   "cell_type": "code",
   "execution_count": null,
   "id": "eb1ed88d-b2db-415f-8993-6386107bfe3e",
   "metadata": {},
   "outputs": [],
   "source": [
    "df.show()"
   ]
  },
  {
   "cell_type": "code",
   "execution_count": null,
   "id": "b6667965-b74d-4706-8e5c-b144626db3d0",
   "metadata": {},
   "outputs": [],
   "source": [
    "df = df.where(\"Age < 40\") \\\n",
    "    .select(\"Age\", \"Gender\", \"Country\", \"state\") \\\n",
    "    .groupBy(\"Country\") \\ # Causes a shuffle/sort\n",
    "    .count()\n",
    "\n",
    "df.show()"
   ]
  },
  {
   "cell_type": "code",
   "execution_count": null,
   "id": "eab88fac-ba15-4b59-bf10-00394dfc0b85",
   "metadata": {},
   "outputs": [],
   "source": [
    "print(df.collect())"
   ]
  },
  {
   "cell_type": "code",
   "execution_count": null,
   "id": "c4683717-d220-4059-bb09-4c6a172a4f54",
   "metadata": {},
   "outputs": [],
   "source": []
  }
 ],
 "metadata": {
  "kernelspec": {
   "display_name": "Python 3 (ipykernel)",
   "language": "python",
   "name": "python3"
  },
  "language_info": {
   "codemirror_mode": {
    "name": "ipython",
    "version": 3
   },
   "file_extension": ".py",
   "mimetype": "text/x-python",
   "name": "python",
   "nbconvert_exporter": "python",
   "pygments_lexer": "ipython3",
   "version": "3.12.8"
  }
 },
 "nbformat": 4,
 "nbformat_minor": 5
}
