{
 "cells": [
  {
   "cell_type": "code",
   "execution_count": 1,
   "id": "063080ca-d4be-4ba4-b069-84dc1be7fd35",
   "metadata": {},
   "outputs": [],
   "source": [
    "from pyspark.sql import SparkSession\n",
    "\n",
    "from lib.log4j import Log4J"
   ]
  },
  {
   "cell_type": "code",
   "execution_count": 2,
   "id": "80bdb52f-16c6-4c5a-8883-dac21d329cd5",
   "metadata": {},
   "outputs": [
    {
     "name": "stderr",
     "output_type": "stream",
     "text": [
      "Setting default log level to \"WARN\".\n",
      "To adjust logging level use sc.setLogLevel(newLevel). For SparkR, use setLogLevel(newLevel).\n",
      "25/01/17 12:15:42 WARN NativeCodeLoader: Unable to load native-hadoop library for your platform... using builtin-java classes where applicable\n",
      "25/01/17 12:15:42 WARN Utils: Service 'SparkUI' could not bind on port 4040. Attempting port 4041.\n"
     ]
    }
   ],
   "source": [
    "spark = SparkSession.builder \\\n",
    "    .appName(\"Hello Spark!\") \\\n",
    "    .master(\"local[3]\") \\\n",
    "    .getOrCreate()"
   ]
  },
  {
   "cell_type": "code",
   "execution_count": 3,
   "id": "cf95d4f8-b045-419e-af4f-cc25e2d234eb",
   "metadata": {},
   "outputs": [],
   "source": [
    "log_root = \"guru.learningjournal.spark.examples\"\n",
    "logger = Log4J(spark, log_root)"
   ]
  },
  {
   "cell_type": "code",
   "execution_count": 4,
   "id": "b5b6ee5e-8eb1-4588-80e3-0baf2a8ec6fa",
   "metadata": {},
   "outputs": [],
   "source": [
    "logger.info(\"Starting\")"
   ]
  },
  {
   "cell_type": "code",
   "execution_count": 5,
   "id": "306c7a94-b3a5-4ad4-a5c0-22010d6bf32c",
   "metadata": {},
   "outputs": [],
   "source": [
    "logger.info(\"Stopping\")\n",
    "spark.stop()"
   ]
  },
  {
   "cell_type": "code",
   "execution_count": null,
   "id": "65cf3626-ab4f-495d-8baa-a82567fa47c9",
   "metadata": {},
   "outputs": [],
   "source": []
  }
 ],
 "metadata": {
  "kernelspec": {
   "display_name": "Python 3 (ipykernel)",
   "language": "python",
   "name": "python3"
  },
  "language_info": {
   "codemirror_mode": {
    "name": "ipython",
    "version": 3
   },
   "file_extension": ".py",
   "mimetype": "text/x-python",
   "name": "python",
   "nbconvert_exporter": "python",
   "pygments_lexer": "ipython3",
   "version": "3.12.8"
  }
 },
 "nbformat": 4,
 "nbformat_minor": 5
}
