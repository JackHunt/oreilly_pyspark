{
 "cells": [
  {
   "cell_type": "code",
   "execution_count": null,
   "id": "063080ca-d4be-4ba4-b069-84dc1be7fd35",
   "metadata": {},
   "outputs": [],
   "source": [
    "from pathlib import Path\n",
    "\n",
    "from pyspark.sql import SparkSession\n",
    "\n",
    "from lib.log4j import Log4J, default_log_root\n",
    "from lib.configuration import configure_spark_session"
   ]
  },
  {
   "cell_type": "code",
   "execution_count": null,
   "id": "80bdb52f-16c6-4c5a-8883-dac21d329cd5",
   "metadata": {},
   "outputs": [],
   "source": [
    "spark = SparkSession.builder \\\n",
    "    .appName(\"Hello Spark!\")\n",
    "\n",
    "spark = configure_spark_session(spark, Path().resolve()) \\\n",
    "    .getOrCreate()"
   ]
  },
  {
   "cell_type": "code",
   "execution_count": null,
   "id": "cf95d4f8-b045-419e-af4f-cc25e2d234eb",
   "metadata": {},
   "outputs": [],
   "source": [
    "logger = Log4J(spark, default_log_root())"
   ]
  },
  {
   "cell_type": "code",
   "execution_count": null,
   "id": "b5b6ee5e-8eb1-4588-80e3-0baf2a8ec6fa",
   "metadata": {},
   "outputs": [],
   "source": [
    "logger.info(\"Starting\")\n",
    "\n",
    "conf = spark.sparkContext.getConf()\n",
    "logger.info(conf.toDebugString())"
   ]
  },
  {
   "cell_type": "code",
   "execution_count": null,
   "id": "306c7a94-b3a5-4ad4-a5c0-22010d6bf32c",
   "metadata": {},
   "outputs": [],
   "source": [
    "logger.info(\"Stopping\")\n",
    "\n",
    "spark.stop()"
   ]
  }
 ],
 "metadata": {
  "kernelspec": {
   "display_name": "Python 3 (ipykernel)",
   "language": "python",
   "name": "python3"
  },
  "language_info": {
   "codemirror_mode": {
    "name": "ipython",
    "version": 3
   },
   "file_extension": ".py",
   "mimetype": "text/x-python",
   "name": "python",
   "nbconvert_exporter": "python",
   "pygments_lexer": "ipython3",
   "version": "3.12.8"
  }
 },
 "nbformat": 4,
 "nbformat_minor": 5
}
